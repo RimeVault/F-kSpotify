{
 "cells": [
  {
   "cell_type": "code",
   "execution_count": 22,
   "metadata": {},
   "outputs": [],
   "source": [
    "import csv\n",
    "import pandas as pd\n",
    "import numpy as np\n",
    "from math import *"
   ]
  },
  {
   "cell_type": "markdown",
   "metadata": {},
   "source": [
    " # pre-process data\n",
    " use a dict to store playlists' data: playlist's id as key and the track and singer as the value"
   ]
  },
  {
   "cell_type": "code",
   "execution_count": 36,
   "metadata": {},
   "outputs": [],
   "source": [
    "playlists_train = {}\n",
    "playlists_test = {}"
   ]
  },
  {
   "cell_type": "code",
   "execution_count": 38,
   "metadata": {
    "scrolled": false
   },
   "outputs": [
    {
     "name": "stdout",
     "output_type": "stream",
     "text": [
      "[['spotify:track:2HHtWyy5CgaQbC7XSoOb0e', 'Survivor', 'Eye of the Tiger'], ['spotify:track:1MYYt7h6amcrauCOoso3Gx', 'Daniel Tidwell', 'Libera Me From Hell (Tengen Toppa Gurren Lagann)'], ['spotify:track:3x2mJ2bjCIU70NrH49CtYR', 'Daniel Tidwell', 'Pokémon Theme'], ['spotify:track:1Pm3fq1SC6lUlNVBGZi3Em', 'Daniel Tidwell', 'Concerning Hobbits (The Lord of the Rings)'], ['spotify:track:1NXTEkIeRL59NK61QuhYUl', 'Daniel Tidwell', 'The Blood of Cuchulainn (The Boondock Saints)'], ['spotify:track:3RGlJJFkWEavxeRQr9ivAd', 'Daniel Tidwell', \"He's a Pirate (Pirates of the Caribbean)\"], ['spotify:track:0e9hR1vTrzlUvFH5PgA9rY', 'Daniel Tidwell', \"Very Bloody Tears (Castlevania II: Simon's Quest)\"], ['spotify:track:7dkbEHIMLoeuG4zXGmzhEH', 'Kaleptik', 'U.N. Owen Was Her? (Remix)'], ['spotify:track:7nZnCjIJ8JigdMqJ36yRRm', 'Ben Foster', 'I am the Doctor in Utah'], ['spotify:track:2TK2KSrzXD6W01qjXVjNGh', 'Leslie Odom Jr.', 'The Room Where It Happens'], ['spotify:track:3nJYcY9yvKP8Oi2Ml8brXt', 'Christopher Jackson', 'Right Hand Man'], ['spotify:track:4TTV7EcfroSLWzXRY6gLv6', 'Leslie Odom Jr.', 'Alexander Hamilton'], ['spotify:track:4cxvludVmQxryrnx1m9FqL', 'Lin-Manuel Miranda', 'My Shot'], ['spotify:track:5CQ30WqJwcep0pYcV4AMNc', 'Led Zeppelin', 'Stairway To Heaven'], ['spotify:track:1HZ3cUZUw5htSFmah1V8Ko', 'Collective Soul', 'Shine'], ['spotify:track:43pmQcgxMMhJu1gPW2ZdNz', 'Nightwish', 'Ghost Love Score'], ['spotify:track:6Vz7vzOpCwKeSQlfViibuY', 'Seal', 'Crazy'], ['spotify:track:4sFbojhVXQv7dBC9PVCcRn', 'The Rolling Stones', 'Sympathy For The Devil'], ['spotify:track:1dv3ePjze9tPq2pk8eWJdR', 'The Rolling Stones', 'Gimme Shelter'], ['spotify:track:5EWPGh7jbTNO2wakv8LjUI', 'Lynyrd Skynyrd', 'Free Bird'], ['spotify:track:1GqlvSEtMx5xbGptxOTTyk', 'Boston', 'Peace of Mind'], ['spotify:track:39C5FuZ8C8M0QI8CrMsPkR', 'Boston', 'Foreplay / Long Time'], ['spotify:track:4aVuWgvD0X63hcOCnZtNFA', 'Toto', 'Hold the Line'], ['spotify:track:4DMKwE2E2iYDKY01C335Uw', 'Kansas', 'Carry on Wayward Son'], ['spotify:track:1AhDOtG9vPSOmsWgNW0BEY', 'Queen', 'Bohemian Rhapsody - Remastered 2011'], ['spotify:track:4CJVkjo5WpmUAKp3R44LNb', 'Lynyrd Skynyrd', 'Sweet Home Alabama'], ['spotify:track:1QEEqeFIZktqIpPI4jSVSF', 'Boston', 'More Than a Feeling'], ['spotify:track:2nVHqZbOGkKWzlcy1aMbE7', 'Led Zeppelin', 'Kashmir'], ['spotify:track:6MpMuAuLzFFfwB8QzWL1iZ', 'Ben Foster', 'The Majestic Tale (Of A Madman In A Box)'], ['spotify:track:7o2CTH4ctstm8TNelqjb51', \"Guns N' Roses\", \"Sweet Child O' Mine\"], ['spotify:track:4BP3uh0hFLFRb5cjsgLqDh', 'Creedence Clearwater Revival', 'Fortunate Son'], ['spotify:track:0XIvZ82aDF7JiSi3ZE320u', 'Scorpions', 'Rock You Like A Hurricane'], ['spotify:track:3QZ7uX97s82HFYSmQUAN1D', 'Rush', 'Tom Sawyer'], ['spotify:track:6UGHk2cmbDC1oidVjXcCKo', 'Rush', 'Red Barchetta'], ['spotify:track:3lpDrxUkr0tIe1kmJvdK7d', 'Rush', 'YYZ'], ['spotify:track:0K6yUnIKNsFtfIpTgGtcHm', 'Rush', 'Limelight'], ['spotify:track:0hBby0yygBY1u3m6tSpZgC', 'Rush', 'The Camera Eye'], ['spotify:track:6cbBAD1AAYVaQR1cx89AZX', 'Rush', 'Witch Hunt'], ['spotify:track:1k0GxoZYv3Yx5mNeXMOZN2', 'Rush', 'Vital Signs'], ['spotify:track:2HHtWyy5CgaQbC7XSoOb0e', 'Survivor', 'Eye of the Tiger'], ['spotify:track:1MYYt7h6amcrauCOoso3Gx', 'Daniel Tidwell', 'Libera Me From Hell (Tengen Toppa Gurren Lagann)'], ['spotify:track:3x2mJ2bjCIU70NrH49CtYR', 'Daniel Tidwell', 'Pokémon Theme'], ['spotify:track:1Pm3fq1SC6lUlNVBGZi3Em', 'Daniel Tidwell', 'Concerning Hobbits (The Lord of the Rings)'], ['spotify:track:1NXTEkIeRL59NK61QuhYUl', 'Daniel Tidwell', 'The Blood of Cuchulainn (The Boondock Saints)'], ['spotify:track:3RGlJJFkWEavxeRQr9ivAd', 'Daniel Tidwell', \"He's a Pirate (Pirates of the Caribbean)\"], ['spotify:track:0e9hR1vTrzlUvFH5PgA9rY', 'Daniel Tidwell', \"Very Bloody Tears (Castlevania II: Simon's Quest)\"], ['spotify:track:7dkbEHIMLoeuG4zXGmzhEH', 'Kaleptik', 'U.N. Owen Was Her? (Remix)'], ['spotify:track:7nZnCjIJ8JigdMqJ36yRRm', 'Ben Foster', 'I am the Doctor in Utah'], ['spotify:track:2TK2KSrzXD6W01qjXVjNGh', 'Leslie Odom Jr.', 'The Room Where It Happens'], ['spotify:track:3nJYcY9yvKP8Oi2Ml8brXt', 'Christopher Jackson', 'Right Hand Man'], ['spotify:track:4TTV7EcfroSLWzXRY6gLv6', 'Leslie Odom Jr.', 'Alexander Hamilton'], ['spotify:track:4cxvludVmQxryrnx1m9FqL', 'Lin-Manuel Miranda', 'My Shot'], ['spotify:track:5CQ30WqJwcep0pYcV4AMNc', 'Led Zeppelin', 'Stairway To Heaven'], ['spotify:track:1HZ3cUZUw5htSFmah1V8Ko', 'Collective Soul', 'Shine'], ['spotify:track:43pmQcgxMMhJu1gPW2ZdNz', 'Nightwish', 'Ghost Love Score'], ['spotify:track:6Vz7vzOpCwKeSQlfViibuY', 'Seal', 'Crazy'], ['spotify:track:4sFbojhVXQv7dBC9PVCcRn', 'The Rolling Stones', 'Sympathy For The Devil'], ['spotify:track:1dv3ePjze9tPq2pk8eWJdR', 'The Rolling Stones', 'Gimme Shelter'], ['spotify:track:5EWPGh7jbTNO2wakv8LjUI', 'Lynyrd Skynyrd', 'Free Bird'], ['spotify:track:1GqlvSEtMx5xbGptxOTTyk', 'Boston', 'Peace of Mind'], ['spotify:track:39C5FuZ8C8M0QI8CrMsPkR', 'Boston', 'Foreplay / Long Time'], ['spotify:track:4aVuWgvD0X63hcOCnZtNFA', 'Toto', 'Hold the Line'], ['spotify:track:4DMKwE2E2iYDKY01C335Uw', 'Kansas', 'Carry on Wayward Son'], ['spotify:track:1AhDOtG9vPSOmsWgNW0BEY', 'Queen', 'Bohemian Rhapsody - Remastered 2011'], ['spotify:track:4CJVkjo5WpmUAKp3R44LNb', 'Lynyrd Skynyrd', 'Sweet Home Alabama'], ['spotify:track:1QEEqeFIZktqIpPI4jSVSF', 'Boston', 'More Than a Feeling'], ['spotify:track:2nVHqZbOGkKWzlcy1aMbE7', 'Led Zeppelin', 'Kashmir'], ['spotify:track:6MpMuAuLzFFfwB8QzWL1iZ', 'Ben Foster', 'The Majestic Tale (Of A Madman In A Box)'], ['spotify:track:7o2CTH4ctstm8TNelqjb51', \"Guns N' Roses\", \"Sweet Child O' Mine\"], ['spotify:track:4BP3uh0hFLFRb5cjsgLqDh', 'Creedence Clearwater Revival', 'Fortunate Son'], ['spotify:track:0XIvZ82aDF7JiSi3ZE320u', 'Scorpions', 'Rock You Like A Hurricane'], ['spotify:track:3QZ7uX97s82HFYSmQUAN1D', 'Rush', 'Tom Sawyer'], ['spotify:track:6UGHk2cmbDC1oidVjXcCKo', 'Rush', 'Red Barchetta'], ['spotify:track:3lpDrxUkr0tIe1kmJvdK7d', 'Rush', 'YYZ'], ['spotify:track:0K6yUnIKNsFtfIpTgGtcHm', 'Rush', 'Limelight'], ['spotify:track:0hBby0yygBY1u3m6tSpZgC', 'Rush', 'The Camera Eye'], ['spotify:track:6cbBAD1AAYVaQR1cx89AZX', 'Rush', 'Witch Hunt'], ['spotify:track:1k0GxoZYv3Yx5mNeXMOZN2', 'Rush', 'Vital Signs']]\n"
     ]
    }
   ],
   "source": [
    "csv_file1 = csv.reader(open('data_CSV/0-999.csv'))\n",
    "csv_file2 = csv.reader(open('data_CSV/1000-1999.csv'))\n",
    "csv_file3 = csv.reader(open('data_CSV/2000-2999.csv'))\n",
    "csv_file4 = csv.reader(open('data_CSV/3000-3999.csv'))\n",
    "for i in csv_file1:\n",
    "    if i[3] in playlists_train.keys():\n",
    "        playlists_train[i[3]].append(i[:3])\n",
    "    else:\n",
    "        playlists_train[i[3]] = [i[:3]]\n",
    "'''\n",
    "for i in csv_file2:\n",
    "    if i[3] in playlists_train.keys():\n",
    "        playlists_train[i[3]].append(i[:3])\n",
    "    else:\n",
    "        playlists_train[i[3]] = [i[:3]]\n",
    "for i in csv_file3:\n",
    "    if i[3] in playlists_train.keys():\n",
    "        playlists_train[i[3]].append(i[:3])\n",
    "    else:\n",
    "        playlists_train[i[3]] = [i[:3]]\n",
    "'''\n",
    "print(playlists_train['1'])\n"
   ]
  },
  {
   "cell_type": "code",
   "execution_count": null,
   "metadata": {},
   "outputs": [],
   "source": []
  },
  {
   "cell_type": "markdown",
   "metadata": {},
   "source": [
    " # compute the similarity between playlists\n",
    " use Jaccard Index: https://en.wikipedia.org/wiki/Jaccard_index"
   ]
  },
  {
   "cell_type": "code",
   "execution_count": null,
   "metadata": {},
   "outputs": [],
   "source": [
    "def Jaccard(playlist1, playlist2):\n",
    "    "
   ]
  },
  {
   "cell_type": "markdown",
   "metadata": {},
   "source": [
    " # compute the similarity between playlists\n",
    " use Euclidean: "
   ]
  },
  {
   "cell_type": "code",
   "execution_count": 39,
   "metadata": {},
   "outputs": [
    {
     "ename": "TypeError",
     "evalue": "list indices must be integers or slices, not list",
     "output_type": "error",
     "traceback": [
      "\u001b[0;31m---------------------------------------------------------------------------\u001b[0m",
      "\u001b[0;31mTypeError\u001b[0m                                 Traceback (most recent call last)",
      "\u001b[0;32m<ipython-input-39-77e1a8bb4b61>\u001b[0m in \u001b[0;36m<module>\u001b[0;34m\u001b[0m\n\u001b[1;32m     16\u001b[0m     \u001b[0mres\u001b[0m\u001b[0;34m.\u001b[0m\u001b[0msort\u001b[0m\u001b[0;34m(\u001b[0m\u001b[0mkey\u001b[0m \u001b[0;34m=\u001b[0m \u001b[0;32mlambda\u001b[0m \u001b[0mval\u001b[0m\u001b[0;34m:\u001b[0m\u001b[0mval\u001b[0m\u001b[0;34m[\u001b[0m\u001b[0;36m1\u001b[0m\u001b[0;34m]\u001b[0m\u001b[0;34m)\u001b[0m\u001b[0;34m\u001b[0m\u001b[0;34m\u001b[0m\u001b[0m\n\u001b[1;32m     17\u001b[0m     \u001b[0;32mreturn\u001b[0m \u001b[0mres\u001b[0m\u001b[0;34m[\u001b[0m\u001b[0;34m:\u001b[0m\u001b[0;36m10\u001b[0m\u001b[0;34m]\u001b[0m\u001b[0;34m\u001b[0m\u001b[0;34m\u001b[0m\u001b[0m\n\u001b[0;32m---> 18\u001b[0;31m \u001b[0mRES\u001b[0m \u001b[0;34m=\u001b[0m \u001b[0mtop10_similar\u001b[0m\u001b[0;34m(\u001b[0m\u001b[0;34m'1'\u001b[0m\u001b[0;34m)\u001b[0m\u001b[0;34m\u001b[0m\u001b[0;34m\u001b[0m\u001b[0m\n\u001b[0m\u001b[1;32m     19\u001b[0m \u001b[0mprint\u001b[0m\u001b[0;34m(\u001b[0m\u001b[0mRES\u001b[0m\u001b[0;34m)\u001b[0m\u001b[0;34m\u001b[0m\u001b[0;34m\u001b[0m\u001b[0m\n",
      "\u001b[0;32m<ipython-input-39-77e1a8bb4b61>\u001b[0m in \u001b[0;36mtop10_similar\u001b[0;34m(playlist)\u001b[0m\n\u001b[1;32m     12\u001b[0m     \u001b[0;32mfor\u001b[0m \u001b[0ml\u001b[0m \u001b[0;32min\u001b[0m \u001b[0mplaylists_train\u001b[0m\u001b[0;34m.\u001b[0m\u001b[0mkeys\u001b[0m\u001b[0;34m(\u001b[0m\u001b[0;34m)\u001b[0m\u001b[0;34m:\u001b[0m\u001b[0;34m\u001b[0m\u001b[0;34m\u001b[0m\u001b[0m\n\u001b[1;32m     13\u001b[0m         \u001b[0;32mif\u001b[0m \u001b[0;32mnot\u001b[0m \u001b[0ml\u001b[0m \u001b[0;34m==\u001b[0m \u001b[0mplaylist\u001b[0m\u001b[0;34m:\u001b[0m\u001b[0;34m\u001b[0m\u001b[0;34m\u001b[0m\u001b[0m\n\u001b[0;32m---> 14\u001b[0;31m             \u001b[0msimilar\u001b[0m \u001b[0;34m=\u001b[0m \u001b[0mEuclidean\u001b[0m\u001b[0;34m(\u001b[0m\u001b[0mplaylist\u001b[0m\u001b[0;34m,\u001b[0m\u001b[0ml\u001b[0m\u001b[0;34m)\u001b[0m\u001b[0;34m\u001b[0m\u001b[0;34m\u001b[0m\u001b[0m\n\u001b[0m\u001b[1;32m     15\u001b[0m             \u001b[0mres\u001b[0m\u001b[0;34m.\u001b[0m\u001b[0mappend\u001b[0m\u001b[0;34m(\u001b[0m\u001b[0;34m(\u001b[0m\u001b[0ml\u001b[0m\u001b[0;34m,\u001b[0m\u001b[0msimilar\u001b[0m\u001b[0;34m)\u001b[0m\u001b[0;34m)\u001b[0m\u001b[0;34m\u001b[0m\u001b[0;34m\u001b[0m\u001b[0m\n\u001b[1;32m     16\u001b[0m     \u001b[0mres\u001b[0m\u001b[0;34m.\u001b[0m\u001b[0msort\u001b[0m\u001b[0;34m(\u001b[0m\u001b[0mkey\u001b[0m \u001b[0;34m=\u001b[0m \u001b[0;32mlambda\u001b[0m \u001b[0mval\u001b[0m\u001b[0;34m:\u001b[0m\u001b[0mval\u001b[0m\u001b[0;34m[\u001b[0m\u001b[0;36m1\u001b[0m\u001b[0;34m]\u001b[0m\u001b[0;34m)\u001b[0m\u001b[0;34m\u001b[0m\u001b[0;34m\u001b[0m\u001b[0m\n",
      "\u001b[0;32m<ipython-input-39-77e1a8bb4b61>\u001b[0m in \u001b[0;36mEuclidean\u001b[0;34m(playlist1, playlist2)\u001b[0m\n\u001b[1;32m      5\u001b[0m     \u001b[0;32mfor\u001b[0m \u001b[0mkey\u001b[0m \u001b[0;32min\u001b[0m \u001b[0mplaylist1_data\u001b[0m\u001b[0;34m:\u001b[0m\u001b[0;34m\u001b[0m\u001b[0;34m\u001b[0m\u001b[0m\n\u001b[1;32m      6\u001b[0m         \u001b[0;32mif\u001b[0m \u001b[0mkey\u001b[0m \u001b[0;32min\u001b[0m \u001b[0mplaylist2_data\u001b[0m\u001b[0;34m:\u001b[0m\u001b[0;34m\u001b[0m\u001b[0;34m\u001b[0m\u001b[0m\n\u001b[0;32m----> 7\u001b[0;31m             \u001b[0mdistance\u001b[0m \u001b[0;34m+=\u001b[0m \u001b[0mpow\u001b[0m\u001b[0;34m(\u001b[0m\u001b[0mfloat\u001b[0m\u001b[0;34m(\u001b[0m\u001b[0mplaylist1_data\u001b[0m\u001b[0;34m[\u001b[0m\u001b[0mkey\u001b[0m\u001b[0;34m]\u001b[0m\u001b[0;34m)\u001b[0m\u001b[0;34m-\u001b[0m\u001b[0mfloat\u001b[0m\u001b[0;34m(\u001b[0m\u001b[0mplaylist2_data\u001b[0m\u001b[0;34m[\u001b[0m\u001b[0mkey\u001b[0m\u001b[0;34m]\u001b[0m\u001b[0;34m)\u001b[0m\u001b[0;34m,\u001b[0m\u001b[0;36m2\u001b[0m\u001b[0;34m)\u001b[0m\u001b[0;34m\u001b[0m\u001b[0;34m\u001b[0m\u001b[0m\n\u001b[0m\u001b[1;32m      8\u001b[0m     \u001b[0;32mreturn\u001b[0m \u001b[0;36m1\u001b[0m \u001b[0;34m/\u001b[0m \u001b[0;34m(\u001b[0m\u001b[0;36m1\u001b[0m\u001b[0;34m+\u001b[0m\u001b[0msqrt\u001b[0m\u001b[0;34m(\u001b[0m\u001b[0mdistance\u001b[0m\u001b[0;34m)\u001b[0m\u001b[0;34m)\u001b[0m \u001b[0;31m#返回值越小相关度越大\u001b[0m\u001b[0;34m\u001b[0m\u001b[0;34m\u001b[0m\u001b[0m\n\u001b[1;32m      9\u001b[0m \u001b[0;34m\u001b[0m\u001b[0m\n",
      "\u001b[0;31mTypeError\u001b[0m: list indices must be integers or slices, not list"
     ]
    }
   ],
   "source": [
    "def Euclidean(playlist1, playlist2):\n",
    "    playlist1_data = playlists_train[playlist1]\n",
    "    playlist2_data = playlists_train[playlist2]\n",
    "    distance = 0 \n",
    "    for key in playlist1_data:\n",
    "        if key in playlist2_data:\n",
    "            distance += pow(float(playlist1_data[key])-float(playlist2_data[key]),2)\n",
    "    return 1 / (1+sqrt(distance)) \n",
    "\n",
    "def top10_similar(playlist):\n",
    "    res = []\n",
    "    for l in playlists_train.keys():\n",
    "        if not l == playlist:\n",
    "            similar = Euclidean(playlist,l)\n",
    "            res.append((l,similar))\n",
    "    res.sort(key = lambda val:val[1])\n",
    "    return res[:10]\n",
    "RES = top10_similar('1')\n",
    "print(RES)"
   ]
  },
  {
   "cell_type": "markdown",
   "metadata": {},
   "source": [
    " # compute the similarity between playlists\n",
    " use Pearson correlation coefficient: "
   ]
  },
  {
   "cell_type": "code",
   "execution_count": 34,
   "metadata": {},
   "outputs": [
    {
     "name": "stdout",
     "output_type": "stream",
     "text": [
      "0\n"
     ]
    }
   ],
   "source": [
    "def Pearson(playlist1, playlist2):\n",
    "    playlist1_data = playlists_train[playlist1]\n",
    "    playlist2_data = playlists_train[playlist2]\n",
    "    distance = 0\n",
    "    common = {}\n",
    "    \n",
    "    for key in playlist1_data:\n",
    "        if key in playlist2_data:\n",
    "            common[key] = 1\n",
    "    if len(common) == 0:\n",
    "        return 0\n",
    "    n = len(common)\n",
    "    print(n,common)\n",
    "    #calculate the sum of score\n",
    "    sum1 = sum([float(playlist1_data[song]) for song in common])\n",
    "    sum2 = sum([float(playlist2_data[song]) for song in common])\n",
    "    #calculate the sum of score's square\n",
    "    sum1Sq = sum([pow(float(playlist1_data[song]),2) for song in common])\n",
    "    sum2Sq = sum([pow(float(playlist1_data[song]),2) for song in common])\n",
    "    #计算乘积和\n",
    "    PSum = sum([float(playlist1_data[it]) * float(playlist2_data[it]) for it in common])\n",
    "    #计算相关系数\n",
    "    num = PSum - (sum1*sum2/n)\n",
    "    den = sqrt((sum1Sq-pow(sum1,2)/n)*(sum2Sq-pow(sum2,2)/n))\n",
    "    if den == 0:\n",
    "        return 0\n",
    "    r = num / den\n",
    "    return r\n",
    "\n",
    "R = Pearson('1','11')\n",
    "print(R)"
   ]
  },
  {
   "cell_type": "markdown",
   "metadata": {},
   "source": [
    "# recommend the music to other playlists"
   ]
  },
  {
   "cell_type": "code",
   "execution_count": null,
   "metadata": {},
   "outputs": [],
   "source": [
    "def recommender_Jaccard(playlist):\n",
    "    pass\n",
    "\n",
    "def recommender_Pearson(playlist):\n",
    "    top_sim_playlist = top10_similar(playlist)[0][0]\n",
    "    items = playlists_train[top_sim_playlist]\n",
    "    recommendations = []\n",
    "    #find the songs that are not in the playlist\n",
    "    for item in items.keys():\n",
    "        if item not in playlists_train[playlist].keys():\n",
    "            recommendations.append((item,items[item]))\n",
    "    return recommendations[:10]"
   ]
  },
  {
   "cell_type": "markdown",
   "metadata": {},
   "source": [
    "# compute the correct rate"
   ]
  },
  {
   "cell_type": "code",
   "execution_count": null,
   "metadata": {},
   "outputs": [],
   "source": [
    "# use "
   ]
  }
 ],
 "metadata": {
  "kernelspec": {
   "display_name": "Python 3",
   "language": "python",
   "name": "python3"
  },
  "language_info": {
   "codemirror_mode": {
    "name": "ipython",
    "version": 3
   },
   "file_extension": ".py",
   "mimetype": "text/x-python",
   "name": "python",
   "nbconvert_exporter": "python",
   "pygments_lexer": "ipython3",
   "version": "3.8.2"
  }
 },
 "nbformat": 4,
 "nbformat_minor": 4
}
